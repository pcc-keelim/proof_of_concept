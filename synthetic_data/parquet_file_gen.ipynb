{
 "cells": [
  {
   "cell_type": "markdown",
   "metadata": {},
   "source": [
    "## Imports"
   ]
  },
  {
   "cell_type": "code",
   "execution_count": null,
   "metadata": {},
   "outputs": [],
   "source": [
    "from DataGenClasses import (\n",
    "    FacilityDataClass,\n",
    "    ComprehensiveEncounterDataClass,\n",
    "    PatientVisitDataClass,\n",
    "    ComprehensiveEncounterMapDataClass,\n",
    "    PatientLanguageDataClass,\n",
    "    PatientDisabilityDataClass,\n",
    "    PatientMaritalDataClass,\n",
    "    PatientRaceDataClass,\n",
    "    PatientEthnicityDataClass,\n",
    "    PatientDiagnosisDataClass,\n",
    "    PatientVisitPDSCareProviderDataClass,\n",
    "    PatientIdentDataClass,\n",
    "    PatientVisitDetailsDataClass,\n",
    "    FacilityIdentifierDataClass,\n",
    "    Hl7MappingDataClass,\n",
    "    DxCodeDataClass,\n",
    "    )\n",
    "import pandas as pd\n",
    "from random import randint\n",
    "from faker import Faker\n",
    "from dataclasses import asdict\n",
    "import os\n",
    "import duckdb"
   ]
  },
  {
   "cell_type": "markdown",
   "metadata": {},
   "source": [
    "## Create Fake Data"
   ]
  },
  {
   "cell_type": "code",
   "execution_count": null,
   "metadata": {},
   "outputs": [],
   "source": [
    "facility_list = []\n",
    "comprehensive_encounter_list = []\n",
    "patient_visit_list = []\n",
    "comprehensive_encounter_map_list = []\n",
    "patient_diagnosis_list = []\n",
    "patient_visit_pds_care_provider_list = []\n",
    "patient_visit_details_list = []\n",
    "PatientLanguage_list = []\n",
    "PatientDisability_list = []\n",
    "PatientMarital_list = []\n",
    "PatientRace_list = []\n",
    "PatientEthnicity_list = []\n",
    "\n",
    "for facility_id_num in range(20):\n",
    "    facility = FacilityDataClass(id=facility_id_num)\n",
    "    facility_list.append(facility.__dict__)\n",
    "\n",
    "    # Comprehensive Encounter Generation\n",
    "    for comprehensive_encounter_id in range(1000):\n",
    "        comprehensive_encounter = ComprehensiveEncounterDataClass(\n",
    "            facility_id=facility_id_num)\n",
    "        comprehensive_encounter_list.append(comprehensive_encounter.__dict__)\n",
    "\n",
    "        patient_visit = PatientVisitDataClass(\n",
    "            patient_id=comprehensive_encounter.patient_id, \n",
    "            facility_id=facility_id_num)\n",
    "        patient_visit_list.append(patient_visit.__dict__)\n",
    "\n",
    "        comprehensive_encounter_map = ComprehensiveEncounterMapDataClass(\n",
    "            comprehensive_encounter_id=comprehensive_encounter.id, \n",
    "            patient_visit_id=patient_visit.id)\n",
    "        comprehensive_encounter_map_list.append(comprehensive_encounter_map.__dict__)\n",
    "\n",
    "        patient_diagnosis = PatientDiagnosisDataClass(\n",
    "            patient_visit_id=patient_visit.id)\n",
    "        patient_diagnosis_list.append(patient_diagnosis.__dict__)\n",
    "\n",
    "        patient_visit_pds_care_provider = PatientVisitPDSCareProviderDataClass(\n",
    "            patient_visit_id=patient_visit.id\n",
    "        )\n",
    "        patient_visit_pds_care_provider_list.append(patient_visit_pds_care_provider.__dict__)\n",
    "\n",
    "        patient_visit_details = PatientVisitDetailsDataClass(\n",
    "            id=patient_visit.id\n",
    "        )\n",
    "        patient_visit_details_list.append(patient_visit_details.__dict__)\n",
    "\n",
    "        PatientLanguage = PatientLanguageDataClass(\n",
    "            patient_id=patient_visit.patient_id,\n",
    "            facility_id=patient_visit.facility_id\n",
    "        )\n",
    "        PatientLanguage_list.append(PatientLanguage.__dict__)\n",
    "\n",
    "        PatientDisability = PatientDisabilityDataClass(\n",
    "            patient_id=patient_visit.patient_id,\n",
    "            facility_id=patient_visit.facility_id\n",
    "        )\n",
    "        PatientDisability_list.append(PatientDisability.__dict__)\n",
    "\n",
    "        PatientMarital = PatientMaritalDataClass(\n",
    "            patient_id=patient_visit.patient_id,\n",
    "            facility_id=patient_visit.facility_id\n",
    "        )\n",
    "        PatientMarital_list.append(PatientMarital.__dict__)\n",
    "\n",
    "        PatientRace = PatientRaceDataClass(\n",
    "            patient_id=patient_visit.patient_id,\n",
    "            facility_id=patient_visit.facility_id\n",
    "        )\n",
    "        PatientRace_list.append(PatientRace.__dict__)\n",
    "\n",
    "        PatientEthnicity = PatientEthnicityDataClass(\n",
    "            patient_id=patient_visit.patient_id,\n",
    "            facility_id=patient_visit.facility_id\n",
    "        )\n",
    "        PatientEthnicity_list.append(PatientEthnicity.__dict__)"
   ]
  },
  {
   "cell_type": "markdown",
   "metadata": {},
   "source": [
    "## Convert to DF"
   ]
  },
  {
   "cell_type": "code",
   "execution_count": null,
   "metadata": {},
   "outputs": [],
   "source": [
    "facility_df = pd.DataFrame.from_records(facility_list)\n",
    "comprehensive_encounter_df = pd.DataFrame.from_records(comprehensive_encounter_list)\n",
    "patient_visit_df = pd.DataFrame.from_records(patient_visit_list)\n",
    "comprehensive_encounter_map_df = pd.DataFrame.from_records(comprehensive_encounter_map_list)\n",
    "patient_diagnosis_df = pd.DataFrame.from_records(patient_diagnosis_list)\n",
    "patient_visit_pds_care_provider_df = pd.DataFrame.from_records(patient_visit_pds_care_provider_list)\n",
    "patient_visit_details_df = pd.DataFrame.from_records(patient_visit_details_list)\n",
    "PatientLanguage_df = pd.DataFrame.from_records(PatientLanguage_list)\n",
    "PatientDisability_df = pd.DataFrame.from_records(PatientDisability_list)\n",
    "PatientMarital_df = pd.DataFrame.from_records(PatientMarital_list)\n",
    "PatientRace_df = pd.DataFrame.from_records(PatientRace_list)\n",
    "PatientEthnicity_df = pd.DataFrame.from_records(PatientEthnicity_list)"
   ]
  },
  {
   "cell_type": "markdown",
   "metadata": {},
   "source": [
    "## Write data to file"
   ]
  },
  {
   "cell_type": "code",
   "execution_count": null,
   "metadata": {},
   "outputs": [],
   "source": [
    "os.makedirs(\"./data/\", exist_ok=True)\n",
    "facility_df.to_parquet(\"./data/facility.parquet\")\n",
    "comprehensive_encounter_df.to_parquet(\"./data/comprehensive_encounter.parquet\")\n",
    "patient_visit_df.to_parquet(\"./data/patient_visit.parquet\")\n",
    "comprehensive_encounter_map_df.to_parquet(\"./data/comprehensive_encounter_map.parquet\")\n",
    "patient_diagnosis_df.to_parquet(\"./data/patient_diagnosis.parquet\")\n",
    "patient_visit_pds_care_provider_df.to_parquet(\"./data/patient_visit_pds_care_provider.parquet\")\n",
    "patient_visit_details_df.to_parquet(\"./data/patient_visit_details.parquet\")\n",
    "PatientLanguage_df.to_parquet(\"./data/PatientLanguage.parquet\")\n",
    "PatientDisability_df.to_parquet(\"./data/PatientDisability.parquet\")\n",
    "PatientMarital_df.to_parquet(\"./data/PatientMarital.parquet\")\n",
    "PatientRace_df.to_parquet(\"./data/PatientRace.parquet\")\n",
    "PatientEthnicity_df.to_parquet(\"./data/PatientEthnicity.parquet\")"
   ]
  },
  {
   "cell_type": "markdown",
   "metadata": {},
   "source": [
    "## Create DuckDB file"
   ]
  },
  {
   "cell_type": "code",
   "execution_count": null,
   "metadata": {},
   "outputs": [],
   "source": [
    "table_storage = {\n",
    "    \"f_df\": \"./data/facility.parquet\",\n",
    "    \"ce_df\": \"./data/comprehensive_encounter.parquet\",\n",
    "    \"pv_df\": \"./data/patient_visit.parquet\",\n",
    "    \"cem_df\": \"./data/comprehensive_encounter_map.parquet\",\n",
    "    \"p_dx_df\": \"./data/patient_diagnosis.parquet\",\n",
    "    \"p_v_pcp_df\": \"./data/patient_visit_pds_care_provider.parquet\",\n",
    "    \"pvd_df\": \"./data/patient_visit_details.parquet\",\n",
    "    \"p_lang_df\": \"./data/PatientLanguage.parquet\",\n",
    "    \"p_dis_df\": \"./data/PatientDisability.parquet\",\n",
    "    \"p_mar_df\": \"./data/PatientMarital.parquet\",\n",
    "    \"p_rac_df\": \"./data/PatientRace.parquet\",\n",
    "    \"p_eth_df\": \"./data/PatientEthnicity.parquet\",\n",
    "}"
   ]
  },
  {
   "cell_type": "code",
   "execution_count": null,
   "metadata": {},
   "outputs": [],
   "source": [
    "with duckdb.connect(\"database.duckdb\") as con:\n",
    "    for table,path in table_storage.items():\n",
    "        sql = f\"CREATE VIEW {table} AS SELECT * FROM parquet_scan('{path}')\"\n",
    "        con.execute(sql)"
   ]
  }
 ],
 "metadata": {
  "kernelspec": {
   "display_name": "Python 3.9.13",
   "language": "python",
   "name": "python3"
  },
  "language_info": {
   "codemirror_mode": {
    "name": "ipython",
    "version": 3
   },
   "file_extension": ".py",
   "mimetype": "text/x-python",
   "name": "python",
   "nbconvert_exporter": "python",
   "pygments_lexer": "ipython3",
   "version": "3.9.13"
  },
  "orig_nbformat": 4,
  "vscode": {
   "interpreter": {
    "hash": "767774b3283bfe888485921fb621b839b5a12ff3f06b19bc6589add5483a5419"
   }
  }
 },
 "nbformat": 4,
 "nbformat_minor": 2
}
