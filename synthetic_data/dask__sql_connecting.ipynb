{
 "cells": [
  {
   "cell_type": "markdown",
   "metadata": {},
   "source": [
    "Different methods attempting to connect to local dask-sql-server and query it"
   ]
  },
  {
   "cell_type": "code",
   "execution_count": null,
   "metadata": {},
   "outputs": [],
   "source": [
    "from sqlalchemy import *\n",
    "from sqlalchemy.engine import create_engine\n",
    "from sqlalchemy.schema import *\n",
    "import pandas as pd"
   ]
  },
  {
   "cell_type": "code",
   "execution_count": null,
   "metadata": {},
   "outputs": [],
   "source": [
    "my_engine = create_engine('presto://localhost:8080/hive/default')\n",
    "df = pd.read_sql_query(\"select * from facility;\", con=my_engine)"
   ]
  },
  {
   "cell_type": "code",
   "execution_count": null,
   "metadata": {},
   "outputs": [],
   "source": [
    "my_engine = create_engine('presto://localhost:8080/').connect()\n",
    "df = pd.read_sql_query(\"select * from facility;\", con=my_engine)"
   ]
  },
  {
   "cell_type": "code",
   "execution_count": null,
   "metadata": {},
   "outputs": [],
   "source": [
    "my_engine = create_engine('presto://localhost:8080/')\n",
    "df = pd.read_sql_query(\"select * from facility;\", con=my_engine)"
   ]
  },
  {
   "cell_type": "code",
   "execution_count": null,
   "metadata": {},
   "outputs": [],
   "source": [
    "with create_engine('presto://localhost:8080/').connect() as connection:\n",
    "    df = pd.read_sql_query(\"select * from facility;\", con=connection)"
   ]
  },
  {
   "cell_type": "code",
   "execution_count": null,
   "metadata": {},
   "outputs": [],
   "source": [
    "df2 = pd.read_sql_query(\"select * from comprehensive_encounter;\", con=my_engine)"
   ]
  },
  {
   "cell_type": "code",
   "execution_count": null,
   "metadata": {},
   "outputs": [],
   "source": [
    "df3 = pd.read_sql_query(\"\"\"\n",
    "    select * \n",
    "    from facility f \n",
    "    left join comprehensive_encounter ce on ce.facility_id = f.id;\"\"\", con=my_engine)"
   ]
  },
  {
   "cell_type": "code",
   "execution_count": null,
   "metadata": {},
   "outputs": [],
   "source": [
    "df3"
   ]
  }
 ],
 "metadata": {
  "kernelspec": {
   "display_name": "Python 3.9.13 (conda)",
   "language": "python",
   "name": "python3"
  },
  "language_info": {
   "codemirror_mode": {
    "name": "ipython",
    "version": 3
   },
   "file_extension": ".py",
   "mimetype": "text/x-python",
   "name": "python",
   "nbconvert_exporter": "python",
   "pygments_lexer": "ipython3",
   "version": "3.9.13"
  },
  "orig_nbformat": 4,
  "vscode": {
   "interpreter": {
    "hash": "23d34cef6e945fa2d35e4809cf1551b84ac809784c951048848c94016f4e726b"
   }
  }
 },
 "nbformat": 4,
 "nbformat_minor": 2
}
