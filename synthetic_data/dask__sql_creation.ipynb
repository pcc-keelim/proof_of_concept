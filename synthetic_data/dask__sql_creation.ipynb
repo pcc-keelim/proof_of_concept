{
 "cells": [
  {
   "cell_type": "markdown",
   "metadata": {},
   "source": [
    "This code starts a stable dask-sql-server. For some reason the code does not work when executed when \\_\\_name\\_\\_ == \"\\_\\_main\\_\\_\""
   ]
  },
  {
   "cell_type": "code",
   "execution_count": 1,
   "metadata": {},
   "outputs": [],
   "source": [
    "from dask.distributed import LocalCluster, Client"
   ]
  },
  {
   "cell_type": "code",
   "execution_count": 2,
   "metadata": {},
   "outputs": [],
   "source": [
    "cluster = LocalCluster(\n",
    "    n_workers=2,\n",
    "    memory_limit='3GiB',\n",
    ")"
   ]
  },
  {
   "cell_type": "code",
   "execution_count": 3,
   "metadata": {},
   "outputs": [
    {
     "data": {
      "text/plain": [
       "'http://127.0.0.1:8787/status'"
      ]
     },
     "execution_count": 3,
     "metadata": {},
     "output_type": "execute_result"
    }
   ],
   "source": [
    "cluster.dashboard_link"
   ]
  },
  {
   "cell_type": "code",
   "execution_count": 4,
   "metadata": {},
   "outputs": [
    {
     "data": {
      "text/plain": [
       "'tcp://127.0.0.1:58508'"
      ]
     },
     "execution_count": 4,
     "metadata": {},
     "output_type": "execute_result"
    }
   ],
   "source": [
    "cluster.scheduler_address"
   ]
  },
  {
   "cell_type": "code",
   "execution_count": 5,
   "metadata": {},
   "outputs": [],
   "source": [
    "client = Client(cluster)"
   ]
  },
  {
   "cell_type": "code",
   "execution_count": 6,
   "metadata": {},
   "outputs": [],
   "source": [
    "from dask_sql import Context"
   ]
  },
  {
   "cell_type": "code",
   "execution_count": 7,
   "metadata": {},
   "outputs": [
    {
     "name": "stdout",
     "output_type": "stream",
     "text": [
      "dask_sql\n",
      "root\n"
     ]
    }
   ],
   "source": [
    "data_locations = {\n",
    "    # \"table_name\":\"location\",\n",
    "    \"facility\":\"C:/Users/marc.keeling/Development/.sandbox/proof_of_concept/synthetic_data/data/facility.parquet\",\n",
    "    \"comprehensive_encounter\":\"C:/Users/marc.keeling/Development/.sandbox/proof_of_concept/synthetic_data/data/comprehensive_encounter.parquet\",\n",
    "    \"patient_visit\":\"C:/Users/marc.keeling/Development/.sandbox/proof_of_concept/synthetic_data/data/patient_visit.parquet\",\n",
    "    \"comprehensive_encounter_map\":\"C:/Users/marc.keeling/Development/.sandbox/proof_of_concept/synthetic_data/data/comprehensive_encounter_map.parquet\",\n",
    "    \"patient_diagnosis\":\"C:/Users/marc.keeling/Development/.sandbox/proof_of_concept/synthetic_data/data/patient_diagnosis.parquet\",\n",
    "    \"patient_visit_pds_care_provider\":\"C:/Users/marc.keeling/Development/.sandbox/proof_of_concept/synthetic_data/data/patient_visit_pds_care_provider.parquet\",\n",
    "    \"patient_visit_details\":\"C:/Users/marc.keeling/Development/.sandbox/proof_of_concept/synthetic_data/data/patient_visit_details.parquet\",\n",
    "    \"PatientLanguage\":\"C:/Users/marc.keeling/Development/.sandbox/proof_of_concept/synthetic_data/data/PatientLanguage.parquet\",\n",
    "    \"PatientDisability\":\"C:/Users/marc.keeling/Development/.sandbox/proof_of_concept/synthetic_data/data/PatientDisability.parquet\",\n",
    "    \"PatientMarital\":\"C:/Users/marc.keeling/Development/.sandbox/proof_of_concept/synthetic_data/data/PatientMarital.parquet\",\n",
    "    \"PatientRace\":\"C:/Users/marc.keeling/Development/.sandbox/proof_of_concept/synthetic_data/data/PatientRace.parquet\",\n",
    "    \"PatientEthnicity\":\"C:/Users/marc.keeling/Development/.sandbox/proof_of_concept/synthetic_data/data/PatientEthnicity.parquet\",\n",
    "}\n",
    "\n",
    "c = Context()\n",
    "print(c.DEFAULT_CATALOG_NAME)\n",
    "print(c.DEFAULT_SCHEMA_NAME)\n",
    "\n",
    "for table_name, path in data_locations.items():\n",
    "    c.create_table(table_name=table_name,input_table=path)"
   ]
  },
  {
   "cell_type": "code",
   "execution_count": 8,
   "metadata": {},
   "outputs": [
    {
     "name": "stderr",
     "output_type": "stream",
     "text": [
      "INFO:     Started server process [20548]\n",
      "INFO:uvicorn.error:Started server process [20548]\n",
      "INFO:     Waiting for application startup.\n",
      "INFO:uvicorn.error:Waiting for application startup.\n",
      "INFO:     Application startup complete.\n",
      "INFO:uvicorn.error:Application startup complete.\n",
      "INFO:     Uvicorn running on http://0.0.0.0:8080 (Press CTRL+C to quit)\n",
      "INFO:uvicorn.error:Uvicorn running on http://0.0.0.0:8080 (Press CTRL+C to quit)\n"
     ]
    },
    {
     "name": "stdout",
     "output_type": "stream",
     "text": [
      "INFO:     127.0.0.1:58629 - \"POST /v1/statement HTTP/1.1\" 200 OK\n",
      "INFO:     127.0.0.1:58631 - \"GET /v1/status/adee1c83-a4c5-40a2-9502-cb127afac6b6 HTTP/1.1\" 200 OK\n",
      "INFO:     127.0.0.1:58632 - \"GET /v1/status/adee1c83-a4c5-40a2-9502-cb127afac6b6 HTTP/1.1\" 200 OK\n"
     ]
    }
   ],
   "source": [
    "c.run_server(client = client, blocking=False)"
   ]
  },
  {
   "cell_type": "code",
   "execution_count": null,
   "metadata": {},
   "outputs": [
    {
     "name": "stderr",
     "output_type": "stream",
     "text": [
      "INFO:     Shutting down\n",
      "INFO:uvicorn.error:Shutting down\n",
      "INFO:     Waiting for application shutdown.\n",
      "INFO:uvicorn.error:Waiting for application shutdown.\n",
      "INFO:     Application shutdown complete.\n",
      "INFO:uvicorn.error:Application shutdown complete.\n",
      "2022-11-01 09:27:43,221 - distributed.scheduler - WARNING - Worker failed to heartbeat within 300 seconds. Closing: <WorkerState 'tcp://127.0.0.1:58527', name: 0, status: running, memory: 0, processing: 0>\n",
      "2022-11-01 09:27:43,467 - distributed.scheduler - WARNING - Received heartbeat from unregistered worker 'tcp://127.0.0.1:58527'.\n",
      "2022-11-01 09:27:44,613 - distributed.nanny - WARNING - Restarting worker\n"
     ]
    }
   ],
   "source": [
    "c.stop_server()"
   ]
  }
 ],
 "metadata": {
  "kernelspec": {
   "display_name": "Python 3.9.13 (conda)",
   "language": "python",
   "name": "python3"
  },
  "language_info": {
   "codemirror_mode": {
    "name": "ipython",
    "version": 3
   },
   "file_extension": ".py",
   "mimetype": "text/x-python",
   "name": "python",
   "nbconvert_exporter": "python",
   "pygments_lexer": "ipython3",
   "version": "3.9.13"
  },
  "orig_nbformat": 4,
  "vscode": {
   "interpreter": {
    "hash": "23d34cef6e945fa2d35e4809cf1551b84ac809784c951048848c94016f4e726b"
   }
  }
 },
 "nbformat": 4,
 "nbformat_minor": 2
}
