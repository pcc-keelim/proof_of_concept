{
 "cells": [
  {
   "cell_type": "code",
   "execution_count": 8,
   "metadata": {},
   "outputs": [
    {
     "name": "stderr",
     "output_type": "stream",
     "text": [
      "c:\\Users\\butleb\\Repos\\dataengineeringautomation\\env\\lib\\site-packages\\paramiko\\transport.py:219: CryptographyDeprecationWarning: Blowfish has been deprecated\n",
      "  \"class\": algorithms.Blowfish,\n"
     ]
    }
   ],
   "source": [
    "from sshtunnel import SSHTunnelForwarder\n",
    "import requests\n",
    "import urllib.parse\n",
    "import yaml"
   ]
  },
  {
   "cell_type": "code",
   "execution_count": 17,
   "metadata": {},
   "outputs": [
    {
     "name": "stderr",
     "output_type": "stream",
     "text": [
      "2022-11-02 15:34:15,231| ERROR   | Password is required for key C:\\Users\\butleb/.ssh\\id_rsa\n"
     ]
    }
   ],
   "source": [
    "server = SSHTunnelForwarder(\n",
    "    ssh_address_or_host='rch-ds-analysis-01.int.collectivemedicaltech.com',\n",
    "    ssh_username=\"brandon.butler\",\n",
    "    ssh_password=\"GGwp9119!\",\n",
    "    ssh_pkey=\"~/.ssh/id_rsa\", \n",
    "    ssh_private_key_password=\"GGwp9119!\",\n",
    "    remote_bind_address=('127.0.0.1', 8000),\n",
    ")"
   ]
  },
  {
   "cell_type": "code",
   "execution_count": 18,
   "metadata": {},
   "outputs": [],
   "source": [
    "server.start()"
   ]
  },
  {
   "cell_type": "code",
   "execution_count": 19,
   "metadata": {},
   "outputs": [
    {
     "name": "stdout",
     "output_type": "stream",
     "text": [
      "{'date': 'Wed, 02 Nov 2022 22:34:17 GMT', 'server': 'uvicorn', 'content-length': '89', 'content-type': 'application/json'}\n",
      "{'query_results_filepath': '/data/temp/query_results/results_2022-11-02_16-34-17.parquet'}\n"
     ]
    }
   ],
   "source": [
    "query_engine = 'duckdb'\n",
    "query_string = urllib.parse.quote('select * from facility limit 1')\n",
    "\n",
    "\n",
    "r = requests.get(f'http://127.0.0.1:8000/submit_query/{query_engine}/{query_string}')\n",
    "print(r.headers)\n",
    "print(r.json())\n"
   ]
  },
  {
   "cell_type": "code",
   "execution_count": 21,
   "metadata": {},
   "outputs": [],
   "source": [
    "server.stop()"
   ]
  },
  {
   "cell_type": "code",
   "execution_count": 13,
   "metadata": {},
   "outputs": [],
   "source": [
    "class DataWarehouse():\n",
    "    \"\"\"\n",
    "    \"\"\"\n",
    "    __remote_host:str = 'rch-ds-analysis-01.int.collectivemedicaltech.com'\n",
    "    __ssh_pkey:str = \"~/.ssh/id_rsa\"\n",
    "    __remote_bind_address:str = '127.0.0.1'\n",
    "    __remote_bind_port: int = 8000\n",
    "\n",
    "\n",
    "    def __init__(self) -> None:\n",
    "        with open('secrets.yaml') as secrets:\n",
    "            self.__secrets = yaml.safe_load(secrets)\n",
    "\n",
    "    def execute_query(self, query_engine: str, query_string: str):\n",
    "        \"\"\"\n",
    "        \"\"\"\n",
    "\n",
    "        with SSHTunnelForwarder(\n",
    "            ssh_address_or_host=self.__remote_host,\n",
    "            ssh_username=self.__secrets['credentials']['ssh_username'],\n",
    "            ssh_password=self.__secrets['credentials']['ssh_password'],\n",
    "            ssh_pkey=self.__ssh_pkey, \n",
    "            ssh_private_key_password=self.__secrets['credentials']['ssh_key_password'],\n",
    "            remote_bind_address=(self.__remote_bind_address,self.__remote_bind_port)\n",
    "        )as server:\n",
    "\n",
    "            r = requests.get(f'http://127.0.0.1:8000/submit_query/{query_engine}/{query_string}')\n",
    "            print(r.json())\n"
   ]
  },
  {
   "cell_type": "code",
   "execution_count": 14,
   "metadata": {},
   "outputs": [],
   "source": [
    "dw = DataWarehouse()"
   ]
  },
  {
   "cell_type": "code",
   "execution_count": 15,
   "metadata": {},
   "outputs": [
    {
     "name": "stderr",
     "output_type": "stream",
     "text": [
      "2022-11-02 16:05:16,067| ERROR   | Password is required for key C:\\Users\\butleb/.ssh\\id_rsa\n"
     ]
    },
    {
     "name": "stdout",
     "output_type": "stream",
     "text": [
      "{'query_results_filepath': '/data/temp/query_results/results_2022-11-02_17-05-17.parquet'}\n"
     ]
    }
   ],
   "source": [
    "query_engine = \"duckdb\"\n",
    "query_string = \"SELECT * from FACILITY LIMIT 1;\"\n",
    "dw.execute_query(query_engine, query_string)"
   ]
  },
  {
   "cell_type": "code",
   "execution_count": null,
   "metadata": {},
   "outputs": [],
   "source": []
  }
 ],
 "metadata": {
  "kernelspec": {
   "display_name": "Python 3.9.13",
   "language": "python",
   "name": "python3"
  },
  "language_info": {
   "codemirror_mode": {
    "name": "ipython",
    "version": 3
   },
   "file_extension": ".py",
   "mimetype": "text/x-python",
   "name": "python",
   "nbconvert_exporter": "python",
   "pygments_lexer": "ipython3",
   "version": "3.9.13"
  },
  "orig_nbformat": 4,
  "vscode": {
   "interpreter": {
    "hash": "707982ab0ea74f9df8444060f7575e7cf524ff059249cf8ea7ca5bc8f35abf76"
   }
  }
 },
 "nbformat": 4,
 "nbformat_minor": 2
}
