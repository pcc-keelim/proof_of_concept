{
 "cells": [
  {
   "cell_type": "code",
   "execution_count": null,
   "metadata": {},
   "outputs": [],
   "source": [
    "from sshtunnel import SSHTunnelForwarder\n",
    "import requests\n",
    "import urllib.parse\n",
    "import yaml\n",
    "import pandas as pd\n",
    "import time\n",
    "import os"
   ]
  },
  {
   "cell_type": "code",
   "execution_count": null,
   "metadata": {},
   "outputs": [],
   "source": [
    "server = SSHTunnelForwarder(\n",
    "    ssh_address_or_host='rch-ds-analysis-01.int.collectivemedicaltech.com',\n",
    "    ssh_username=\"brandon.butler\",\n",
    "    ssh_password=\"GGwp9119!\",\n",
    "    ssh_pkey=\"~/.ssh/id_rsa\", \n",
    "    ssh_private_key_password=\"GGwp9119!\",\n",
    "    remote_bind_address=('127.0.0.1', 8000),\n",
    ")"
   ]
  },
  {
   "cell_type": "code",
   "execution_count": null,
   "metadata": {},
   "outputs": [],
   "source": [
    "server.start()"
   ]
  },
  {
   "cell_type": "code",
   "execution_count": null,
   "metadata": {},
   "outputs": [],
   "source": [
    "query_engine = 'duckdb'\n",
    "query_string = urllib.parse.quote('select * from facility limit 1')\n",
    "\n",
    "\n",
    "r = requests.get(f'http://127.0.0.1:8000/submit_query/{query_engine}/{query_string}')\n",
    "print(r.headers)\n",
    "print(r.json())\n"
   ]
  },
  {
   "cell_type": "code",
   "execution_count": null,
   "metadata": {},
   "outputs": [],
   "source": [
    "server.stop()"
   ]
  },
  {
   "cell_type": "code",
   "execution_count": 53,
   "metadata": {},
   "outputs": [],
   "source": [
    "class DataWarehouse():\n",
    "    \"\"\"\n",
    "    \"\"\"\n",
    "    __remote_host:str = 'rch-ds-analysis-01.int.collectivemedicaltech.com'\n",
    "    __ssh_pkey:str = \"~/.ssh/id_rsa\"\n",
    "    __remote_bind_address:str = '127.0.0.1'\n",
    "    __remote_bind_port: int = 8000\n",
    "\n",
    "\n",
    "    def __init__(self) -> None:\n",
    "        with open('secrets.yaml') as secrets:\n",
    "            self.__secrets = yaml.safe_load(secrets)\n",
    "\n",
    "    def execute_query(self, query_engine: str, query_string: str) -> pd.DataFrame:\n",
    "        \"\"\"\n",
    "        Submits a query to duckdb by:\n",
    "            * establishing sshtunnel to vm running fastapi\n",
    "            * passing query to fastapi\n",
    "            * fastapi then submits query to duckdb\n",
    "            * fast api stores query results at default locations on both vm and encrypted drive\n",
    "            * query results filepaths returned here\n",
    "        \"\"\"\n",
    "\n",
    "        with SSHTunnelForwarder(\n",
    "            ssh_address_or_host=self.__remote_host,\n",
    "            ssh_username=self.__secrets['credentials']['ssh_username'],\n",
    "            ssh_password=self.__secrets['credentials']['ssh_password'],\n",
    "            ssh_pkey=self.__ssh_pkey, \n",
    "            ssh_private_key_password=self.__secrets['credentials']['ssh_key_password'],\n",
    "            remote_bind_address=(self.__remote_bind_address,self.__remote_bind_port)\n",
    "        )as server:\n",
    "            response = requests.get(f'http://127.0.0.1:8000/submit_query/{query_engine}/{query_string}').json()\n",
    "        \n",
    "        print(response)\n",
    "\n",
    "        while not os.path.isfile(response['encrypted_query_results_filepath']):\n",
    "            time.sleep(1)\n",
    "\n",
    "        df = pd.read_parquet(response['encrypted_query_results_filepath'])\n",
    "        return df\n"
   ]
  },
  {
   "cell_type": "code",
   "execution_count": 54,
   "metadata": {},
   "outputs": [],
   "source": [
    "dw = DataWarehouse()"
   ]
  },
  {
   "cell_type": "code",
   "execution_count": 56,
   "metadata": {},
   "outputs": [
    {
     "name": "stderr",
     "output_type": "stream",
     "text": [
      "2022-11-03 10:15:48,520| ERROR   | Password is required for key C:\\Users\\butleb/.ssh\\id_rsa\n"
     ]
    },
    {
     "name": "stdout",
     "output_type": "stream",
     "text": [
      "{'vm_query_results_filepath': '/data/temp/query_results/results_2022-11-03_11-15-49.parquet', 'encrypted_query_results_filepath': 'X:/data/temp/query_results/results_2022-11-03_11-15-49.parquet'}\n"
     ]
    }
   ],
   "source": [
    "query_engine = \"duckdb\"\n",
    "query_string = \"SELECT * from FACILITY;\"\n",
    "facility = dw.execute_query(query_engine, query_string)"
   ]
  },
  {
   "cell_type": "code",
   "execution_count": null,
   "metadata": {},
   "outputs": [],
   "source": [
    "dir = '/data/temp/query_results'\n",
    "dir = os.path.join('X:', dir)\n",
    "dir"
   ]
  },
  {
   "cell_type": "code",
   "execution_count": 57,
   "metadata": {},
   "outputs": [
    {
     "data": {
      "text/plain": [
       "(46787, 22)"
      ]
     },
     "execution_count": 57,
     "metadata": {},
     "output_type": "execute_result"
    }
   ],
   "source": [
    "facility.shape"
   ]
  },
  {
   "cell_type": "code",
   "execution_count": null,
   "metadata": {},
   "outputs": [],
   "source": []
  }
 ],
 "metadata": {
  "kernelspec": {
   "display_name": "Python 3.9.13",
   "language": "python",
   "name": "python3"
  },
  "language_info": {
   "codemirror_mode": {
    "name": "ipython",
    "version": 3
   },
   "file_extension": ".py",
   "mimetype": "text/x-python",
   "name": "python",
   "nbconvert_exporter": "python",
   "pygments_lexer": "ipython3",
   "version": "3.9.13"
  },
  "orig_nbformat": 4,
  "vscode": {
   "interpreter": {
    "hash": "707982ab0ea74f9df8444060f7575e7cf524ff059249cf8ea7ca5bc8f35abf76"
   }
  }
 },
 "nbformat": 4,
 "nbformat_minor": 2
}
