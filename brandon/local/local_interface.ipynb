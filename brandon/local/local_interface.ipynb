{
 "cells": [
  {
   "cell_type": "code",
   "execution_count": null,
   "metadata": {},
   "outputs": [],
   "source": [
    "from sshtunnel import SSHTunnelForwarder\n",
    "import requests\n",
    "import urllib.parse\n",
    "import yaml\n",
    "import pandas as pd\n",
    "import time\n",
    "import os\n",
    "\n",
    "from data_warehouse_local import DataWarehouseLocal"
   ]
  },
  {
   "cell_type": "code",
   "execution_count": null,
   "metadata": {},
   "outputs": [],
   "source": [
    "dw = DataWarehouseLocal()"
   ]
  },
  {
   "cell_type": "code",
   "execution_count": null,
   "metadata": {},
   "outputs": [],
   "source": [
    "query_engine = \"duckdb\"\n",
    "query_string = \"SELECT * from FACILITY;\"\n",
    "facility = dw.execute_query(query_engine, query_string)"
   ]
  },
  {
   "cell_type": "code",
   "execution_count": null,
   "metadata": {},
   "outputs": [],
   "source": [
    "print(facility.shape)\n",
    "print(facility.columns)"
   ]
  }
 ],
 "metadata": {
  "kernelspec": {
   "display_name": "Python 3.9.13",
   "language": "python",
   "name": "python3"
  },
  "language_info": {
   "codemirror_mode": {
    "name": "ipython",
    "version": 3
   },
   "file_extension": ".py",
   "mimetype": "text/x-python",
   "name": "python",
   "nbconvert_exporter": "python",
   "pygments_lexer": "ipython3",
   "version": "3.9.13"
  },
  "orig_nbformat": 4,
  "vscode": {
   "interpreter": {
    "hash": "707982ab0ea74f9df8444060f7575e7cf524ff059249cf8ea7ca5bc8f35abf76"
   }
  }
 },
 "nbformat": 4,
 "nbformat_minor": 2
}
